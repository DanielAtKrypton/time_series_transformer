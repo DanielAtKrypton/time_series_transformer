{
 "cells": [
  {
   "cell_type": "code",
   "execution_count": 28,
   "metadata": {},
   "outputs": [],
   "source": [
    "import datetime\n",
    "from pathlib import Path\n",
    "\n",
    "import numpy as np\n",
    "import pandas as pd\n",
    "from matplotlib import pyplot as plt\n",
    "from tqdm import tqdm\n",
    "import torch\n",
    "import torch.nn as nn\n",
    "import torch.optim as optim\n",
    "from torch.utils.data import DataLoader\n",
    "\n",
    "from src.dataset2 import OzeDataset, OzeEvaluationDataset, OzeNPZDataset\n",
    "from src.model import BenchmarkLSTM"
   ]
  },
  {
   "cell_type": "markdown",
   "metadata": {},
   "source": [
    "# Parameters"
   ]
  },
  {
   "cell_type": "code",
   "execution_count": 29,
   "metadata": {},
   "outputs": [
    {
     "output_type": "stream",
     "name": "stdout",
     "text": "Using device cpu\n"
    }
   ],
   "source": [
    "BATCH_SIZE = 4\n",
    "NUM_WORKERS = 4\n",
    "LR = 1e-2\n",
    "EPOCHS = 5\n",
    "HIDDEN_DIM = 100\n",
    "K = 672\n",
    "\n",
    "device = torch.device(\"cuda:0\" if torch.cuda.is_available() else \"cpu\")\n",
    "print(f\"Using device {device}\")"
   ]
  },
  {
   "cell_type": "markdown",
   "metadata": {},
   "source": [
    "# Train the benchmark"
   ]
  },
  {
   "cell_type": "markdown",
   "metadata": {},
   "source": [
    "### Load the dataset"
   ]
  },
  {
   "cell_type": "code",
   "execution_count": 30,
   "metadata": {},
   "outputs": [],
   "source": [
    "dataset = OzeDataset(dataset_x_path=\"datasets/x_train_LsAZgHU.csv\", dataset_y_path=\"datasets/y_train_EFo1WyE.csv\", labels_path=\"labels.json\")\n",
    "\n",
    "dataloader = DataLoader(dataset,\n",
    "                        batch_size=BATCH_SIZE,\n",
    "                        shuffle=True,\n",
    "                        num_workers=NUM_WORKERS)\n",
    "\n",
    "m, M = dataloader.dataset.m, dataloader.dataset.M\n",
    "# Normalization constants, we will need them in the prediction part"
   ]
  },
  {
   "cell_type": "markdown",
   "metadata": {},
   "source": [
    "### Load the network"
   ]
  },
  {
   "cell_type": "code",
   "execution_count": 31,
   "metadata": {},
   "outputs": [],
   "source": [
    "# Load benchmark network with Adam optimizer and MSE loss function\n",
    "net = BenchmarkLSTM(hidden_dim=HIDDEN_DIM).to(device)\n",
    "optimizer = optim.Adam(net.parameters(), lr=LR)\n",
    "loss_function = nn.MSELoss()"
   ]
  },
  {
   "cell_type": "markdown",
   "metadata": {},
   "source": [
    "### Train the network"
   ]
  },
  {
   "cell_type": "code",
   "execution_count": null,
   "metadata": {},
   "outputs": [],
   "source": [
    "model_save_path = f'model_{datetime.datetime.now().strftime(\"%Y_%m_%d__%H%M%S\")}.pth'\n",
    "train_loss_best = np.inf\n",
    "\n",
    "# Prepare loss history\n",
    "hist_loss = np.zeros(EPOCHS)\n",
    "for idx_epoch in range(EPOCHS):\n",
    "    running_loss = 0\n",
    "    with tqdm(total=len(dataloader.dataset), desc=f\"[Epoch {idx_epoch+1:3d}/{EPOCHS}]\") as pbar:\n",
    "        for idx_batch, (x, y) in enumerate(dataloader):\n",
    "            optimizer.zero_grad()\n",
    "\n",
    "            # Propagate input\n",
    "            netout = net(x.to(device))\n",
    "\n",
    "            # Comupte loss\n",
    "            loss = loss_function(y.to(device), netout)\n",
    "\n",
    "            # Backpropage loss\n",
    "            loss.backward()\n",
    "\n",
    "            # Update weights\n",
    "            optimizer.step()\n",
    "\n",
    "            running_loss += loss.item()\n",
    "            pbar.set_postfix({'loss': running_loss/(idx_batch+1)})\n",
    "            pbar.update(x.shape[0])\n",
    "\n",
    "        train_loss = running_loss/len(dataloader)\n",
    "        pbar.set_postfix({'loss': train_loss})\n",
    "\n",
    "        hist_loss[idx_epoch] = train_loss\n",
    "\n",
    "        if train_loss < train_loss_best:\n",
    "            train_loss_best = train_loss\n",
    "            torch.save(net.state_dict(), model_save_path)\n",
    "\n",
    "plt.plot(hist_loss, 'o-', label='train')\n",
    "plt.legend()\n",
    "print(f\"model exported to {model_save_path} with loss {train_loss_best:5f}\")"
   ]
  },
  {
   "cell_type": "markdown",
   "metadata": {},
   "source": [
    "### Plot the results for a training example"
   ]
  },
  {
   "cell_type": "code",
   "execution_count": null,
   "metadata": {},
   "outputs": [],
   "source": [
    "# Select training example\n",
    "idx = np.random.randint(0, len(dataloader.dataset))\n",
    "x, y = dataloader.dataset[idx]\n",
    "\n",
    "# Run predictions\n",
    "with torch.no_grad():\n",
    "    x = torch.Tensor(x[np.newaxis, :, :])\n",
    "    netout = net(x.to(device)).cpu().numpy()\n",
    "\n",
    "plt.figure(figsize=(30, 30))\n",
    "for idx_output_var in range(8):\n",
    "    # Select real temperature\n",
    "    y_true = y[:, idx_output_var]\n",
    "\n",
    "    y_pred = netout[0, :, idx_output_var]\n",
    "\n",
    "    plt.subplot(8, 1, idx_output_var+1)\n",
    "    \n",
    "    plt.plot(y_true, label=\"Truth\")\n",
    "    plt.plot(y_pred, label=\"Prediction\")\n",
    "    plt.title(dataloader.dataset.labels[\"X\"][idx_output_var])\n",
    "    plt.legend()\n",
    "plt.savefig(\"fig\")"
   ]
  },
  {
   "cell_type": "markdown",
   "metadata": {},
   "source": [
    "# Evaluation"
   ]
  },
  {
   "cell_type": "markdown",
   "metadata": {},
   "source": [
    "### Load evaluation dataset"
   ]
  },
  {
   "cell_type": "code",
   "execution_count": null,
   "metadata": {},
   "outputs": [],
   "source": [
    "dataset_eval = OzeEvaluationDataset(dataset_x_path=\"datasets/x_test_QK7dVsy.csv\", labels_path=\"labels.json\")\n",
    "m_test = len(dataset_eval)"
   ]
  },
  {
   "cell_type": "markdown",
   "metadata": {},
   "source": [
    "### Run prediction"
   ]
  },
  {
   "cell_type": "code",
   "execution_count": null,
   "metadata": {},
   "outputs": [],
   "source": [
    "predictions = np.zeros((m_test, K, 8))\n",
    "with torch.no_grad():\n",
    "    for idx, line in tqdm(enumerate(dataset_eval), total=m_test):\n",
    "        # Run prediction\n",
    "        netout = net(torch.Tensor(line[np.newaxis, :, :]).to(device)).cpu().numpy()\n",
    "        \n",
    "        # De-normalize output\n",
    "        output = netout * (M - m + np.finfo(float).eps) + m\n",
    "        predictions[idx] = output"
   ]
  },
  {
   "cell_type": "markdown",
   "metadata": {},
   "source": [
    "### Export as csv"
   ]
  },
  {
   "cell_type": "code",
   "execution_count": null,
   "metadata": {},
   "outputs": [],
   "source": [
    "lines_output = predictions.reshape((m_test, -1))\n",
    "csv_header = [f\"{var_name}_{k}\" for var_name in dataset_eval.labels['X'] for k in range(K)]\n",
    "\n",
    "pd.DataFrame(lines_output, columns=csv_header).to_csv(f\"y_bench.csv\")"
   ]
  }
 ],
 "metadata": {
  "kernelspec": {
   "display_name": "Python 3",
   "language": "python",
   "name": "python3"
  },
  "language_info": {
   "codemirror_mode": {
    "name": "ipython",
    "version": 3
   },
   "file_extension": ".py",
   "mimetype": "text/x-python",
   "name": "python",
   "nbconvert_exporter": "python",
   "pygments_lexer": "ipython3",
   "version": "3.7.3-final"
  }
 },
 "nbformat": 4,
 "nbformat_minor": 4
}